{
 "cells": [
  {
   "cell_type": "markdown",
   "id": "ac8349cc",
   "metadata": {},
   "source": [
    "# Intialize NMRlipids databank"
   ]
  },
  {
   "cell_type": "code",
   "execution_count": 1,
   "id": "8cb6382f",
   "metadata": {},
   "outputs": [],
   "source": [
    "import os\n",
    "import sys\n",
    "import numpy as np\n",
    "import json\n",
    "import matplotlib.pyplot as plt\n",
    "import MDAnalysis\n",
    "import urllib.request\n",
    "import yaml\n",
    "import random\n",
    "\n",
    "\n",
    "# This define the locate path for the NMRlipids databank on your computer. \n",
    "# Default is that this template repository and the NMRlipids databank repository are cloned to the same folder.\n",
    "# If this is not the case, changed this to the folder where the NMRlipids databank repository is located.\n",
    "databankPath =  '../../Databank/'\n",
    "\n",
    "# This enales the access to functions defined in the NMRlipids databank.\n",
    "sys.path.insert(1, databankPath + '/Scripts/BuildDatabank/')\n",
    "from databankLibrary import * \n",
    "\n",
    "# This initializes the databank and stores the information of all simulations into a list.\n",
    "# Each list item contains the information from README.yaml file of the given simulation.\n",
    "systems = initialize_databank(databankPath)"
   ]
  },
  {
   "cell_type": "markdown",
   "id": "cf207c13",
   "metadata": {},
   "source": [
    "# Select random simulation for example and show its content"
   ]
  },
  {
   "cell_type": "code",
   "execution_count": 2,
   "id": "87db1f44",
   "metadata": {},
   "outputs": [
    {
     "name": "stdout",
     "output_type": "stream",
     "text": [
      "ID of the selected simulation:  45\n",
      "\u001b[1mDOI:\u001b[0m\n",
      "  10.5281/zenodo.3540513\n",
      "\u001b[1mSOFTWARE:\u001b[0m\n",
      "  gromacs\n",
      "\u001b[1mTRJ:\u001b[0m\n",
      "  [['DPPC_10_310_DCHOL.xtc']]\n",
      "\u001b[1mTPR:\u001b[0m\n",
      "  [['DPPC_10_310_DCHOL.tpr']]\n",
      "\u001b[1mPREEQTIME:\u001b[0m\n",
      "  0\n",
      "\u001b[1mTIMELEFTOUT:\u001b[0m\n",
      "  0\n",
      "\u001b[1mDIR_WRK:\u001b[0m\n",
      "  /usr/home/bort/Databank\n",
      "\u001b[1mPUBLICATION:\u001b[0m\n",
      "  None\n",
      "\u001b[1mAUTHORS_CONTACT:\u001b[0m\n",
      "  Javanainen, Matti; Martinez-Seara, Hector; Vattulainen, Ilpo\n",
      "\u001b[1mSYSTEM:\u001b[0m\n",
      "  1032DPPC_120DCHOL_46440SOL_124SOD_124CLA_310K\n",
      "\u001b[1mSOFTWARE_VERSION:\u001b[0m\n",
      "  None\n",
      "\u001b[1mFF:\u001b[0m\n",
      "  Slipids\n",
      "\u001b[1mFF_SOURCE:\u001b[0m\n",
      "  None\n",
      "\u001b[1mFF_DATE:\u001b[0m\n",
      "  pre-2020\n",
      "\u001b[1mCPT:\u001b[0m\n",
      "  [['DPPC_10_310_DCHOL.cpt']]\n",
      "\u001b[1mLOG:\u001b[0m\n",
      "  None\n",
      "\u001b[1mTOP:\u001b[0m\n",
      "  None\n",
      "\u001b[1mCOMPOSITION:\u001b[0m\n",
      "  {'DPPC': {'NAME': 'DPPC', 'MAPPING': 'mappingDPPCslipid.yaml', 'COUNT': [516, 516]}, 'DCHOL': {'NAME': 'DCHL', 'MAPPING': 'mappingDCHOLslipids.yaml', 'COUNT': [60, 60]}, 'SOL': {'NAME': 'SOL', 'MAPPING': 'mappingTIP3PwaterSlipids.yaml', 'COUNT': 46440}, 'SOD': {'NAME': 'NA', 'MAPPING': 'mappingNA.yaml', 'COUNT': 124}, 'CLA': {'NAME': 'CL', 'MAPPING': 'mappingCL.yaml', 'COUNT': 124}}\n",
      "\u001b[1mTRAJECTORY_SIZE:\u001b[0m\n",
      "  7370876156\n",
      "\u001b[1mTRJLENGTH:\u001b[0m\n",
      "  700100.0\n",
      "\u001b[1mTEMPERATURE:\u001b[0m\n",
      "  310.0\n",
      "\u001b[1mNUMBER_OF_ATOMS:\u001b[0m\n",
      "  281888\n",
      "\u001b[1mDATEOFRUNNING:\u001b[0m\n",
      "  18/12/2021\n",
      "\u001b[1mTYPEOFSYSTEM:\u001b[0m\n",
      "  lipid bilayer\n",
      "\u001b[1mEXPERIMENT:\u001b[0m\n",
      "  {'ORDERPARAMETER': {'DPPC': {}, 'DCHOL': {}}, 'FORMFACTOR': {}}\n",
      "\u001b[1mID:\u001b[0m\n",
      "  45\n",
      "\u001b[1mpath:\u001b[0m\n",
      "  ../../Databank//Data/Simulations/832/d9e/832d9e9dd418287d709cfcf5aa8c8fc7bef98c2e/b3bfd314c993a94a13f4a5ac30acc1a26eda8096/\n"
     ]
    }
   ],
   "source": [
    " ### To exemplify the analysis of any simulation, we select randomly one simulation ID\n",
    "randomID = random.randint(1, len(systems))\n",
    "print('ID of the selected simulation: ', randomID)\n",
    "\n",
    "\n",
    " ### This loops over all the simulations in the databank\n",
    "for system in systems:\n",
    "    \n",
    "    ### To lighten up the example, we randomly select one simulation\n",
    "    ### To run analyses for all simulations, comment out two lines below\n",
    "    if system['ID'] != randomID:\n",
    "        continue\n",
    "    \n",
    "    ### This prints the information about the selected simulation\n",
    "    print_README(system)\n",
    " \n",
    "\n",
    " ### Remove comments from below two lines to see explanation on content in each simulation\n",
    "#print('\\n Explanation of simulation content')\n",
    "#print_README('example')"
   ]
  },
  {
   "cell_type": "markdown",
   "id": "2563b25e",
   "metadata": {},
   "source": [
    "# Show analyzed properties stored in the NMRlipids databank for the selected system: \n",
    "## membrane area per lipid, thickness, relative equilibration time, C-H bond order parameters and X-ray scattering form factors"
   ]
  },
  {
   "cell_type": "code",
   "execution_count": 5,
   "id": "24a8ee9d",
   "metadata": {},
   "outputs": [
    {
     "name": "stdout",
     "output_type": "stream",
     "text": [
      "Area per lipid: 52.588789253832466\n"
     ]
    }
   ],
   "source": [
    "for system in systems:\n",
    "    \n",
    "    ### To lighten up the example, we randomly select one simulation\n",
    "    ### To run analyses for all simulations, comment out two lines below\n",
    "    if system['ID'] != randomID:\n",
    "        continue\n",
    "    \n",
    "    APL = CalcAreaPerMolecule(system)\n",
    "    print('Area per lipid:' , APL)\n"
   ]
  },
  {
   "cell_type": "code",
   "execution_count": null,
   "id": "1ee89692",
   "metadata": {},
   "outputs": [],
   "source": []
  }
 ],
 "metadata": {
  "kernelspec": {
   "display_name": "Python 3 (ipykernel)",
   "language": "python",
   "name": "python3"
  },
  "language_info": {
   "codemirror_mode": {
    "name": "ipython",
    "version": 3
   },
   "file_extension": ".py",
   "mimetype": "text/x-python",
   "name": "python",
   "nbconvert_exporter": "python",
   "pygments_lexer": "ipython3",
   "version": "3.10.9"
  }
 },
 "nbformat": 4,
 "nbformat_minor": 5
}

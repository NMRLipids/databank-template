{
 "cells": [
  {
   "cell_type": "markdown",
   "id": "06409e3b",
   "metadata": {},
   "source": [
    "### You can run this notebook at Colab by clicking here:"
   ]
  },
  {
   "cell_type": "markdown",
   "id": "8818275f",
   "metadata": {},
   "source": [
    "<a target=\"_blank\" href=\"https://colab.research.google.com/github/NMRLipids/databank-template/blob/main/scripts/plotSimulation.ipynb\">\n",
    "  <img src=\"https://colab.research.google.com/assets/colab-badge.svg\" alt=\"Open In Colab\"/>\n",
    "</a>"
   ]
  },
  {
   "cell_type": "markdown",
   "id": "ac8349cc",
   "metadata": {},
   "source": [
    "# Intialize NMRlipids databank"
   ]
  },
  {
   "cell_type": "code",
   "execution_count": 1,
   "id": "8cb6382f",
   "metadata": {
    "ExecuteTime": {
     "end_time": "2025-02-16T17:39:04.446531Z",
     "start_time": "2025-02-16T17:39:04.432433Z"
    },
    "scrolled": true
   },
   "outputs": [],
   "source": [
    "# This installs NMRlipids Databank on COLAB environment,\n",
    "# you can use the same commands on your local machine if you run it locally.\n",
    "\n",
    "import sys\n",
    "import os\n",
    "\n",
    "databankPath = \"/home/sosamuli/work/NMRlipids/Databank/\"  # this is the local path for the cloned Databank\n",
    "os.environ[\"NMLDB_ROOT_PATH\"] = \"/home/sosamuli/work/NMRlipids/Databank/\"\n",
    "\n",
    "if 'google.colab' in sys.modules:\n",
    "    !git clone https://github.com/NMRlipids/Databank\n",
    "    %cd Databank\n",
    "    !sed -i '/numpy/s/^/# /' Scripts/DatabankLib/requirements.txt\n",
    "    !pip3 install .\n",
    "    os.environ[\"NMLDB_ROOT_PATH\"] = \"/content/Databank\""
   ]
  },
  {
   "cell_type": "code",
   "execution_count": 2,
   "id": "fb0e3fe5828dda53",
   "metadata": {
    "ExecuteTime": {
     "end_time": "2025-02-16T17:39:10.319393Z",
     "start_time": "2025-02-16T17:39:04.505825Z"
    },
    "scrolled": true
   },
   "outputs": [
    {
     "ename": "ModuleNotFoundError",
     "evalue": "No module named 'DatabankLib'",
     "output_type": "error",
     "traceback": [
      "\u001b[0;31m---------------------------------------------------------------------------\u001b[0m",
      "\u001b[0;31mModuleNotFoundError\u001b[0m                       Traceback (most recent call last)",
      "\u001b[0;32m/tmp/ipykernel_37725/3058983074.py\u001b[0m in \u001b[0;36m<module>\u001b[0;34m\u001b[0m\n\u001b[1;32m      1\u001b[0m \u001b[0;31m# These two lines include core Databank routines and Databank API\u001b[0m\u001b[0;34m\u001b[0m\u001b[0;34m\u001b[0m\u001b[0m\n\u001b[0;32m----> 2\u001b[0;31m \u001b[0;32mfrom\u001b[0m \u001b[0mDatabankLib\u001b[0m\u001b[0;34m.\u001b[0m\u001b[0mcore\u001b[0m \u001b[0;32mimport\u001b[0m \u001b[0;34m*\u001b[0m\u001b[0;34m\u001b[0m\u001b[0;34m\u001b[0m\u001b[0m\n\u001b[0m\u001b[1;32m      3\u001b[0m \u001b[0;32mfrom\u001b[0m \u001b[0mDatabankLib\u001b[0m\u001b[0;34m.\u001b[0m\u001b[0mdatabankLibrary\u001b[0m \u001b[0;32mimport\u001b[0m \u001b[0;34m*\u001b[0m\u001b[0;34m\u001b[0m\u001b[0;34m\u001b[0m\u001b[0m\n\u001b[1;32m      4\u001b[0m \u001b[0;31m# This is for plotting\u001b[0m\u001b[0;34m\u001b[0m\u001b[0;34m\u001b[0m\u001b[0m\n\u001b[1;32m      5\u001b[0m \u001b[0;32mfrom\u001b[0m \u001b[0mDatabankLib\u001b[0m\u001b[0;34m.\u001b[0m\u001b[0mdatabankio\u001b[0m \u001b[0;32mimport\u001b[0m \u001b[0;34m*\u001b[0m\u001b[0;34m\u001b[0m\u001b[0;34m\u001b[0m\u001b[0m\n",
      "\u001b[0;31mModuleNotFoundError\u001b[0m: No module named 'DatabankLib'"
     ]
    }
   ],
   "source": [
    "# These two lines include core Databank routines and Databank API\n",
    "from DatabankLib.core import *\n",
    "from DatabankLib.databankLibrary import *\n",
    "# This is for plotting\n",
    "from DatabankLib.databankio import *\n",
    "from DatabankLib.plottings import plotSimulation\n",
    "from IPython.display import display, Markdown\n",
    "\n",
    "# This initializes the databank and stores the information of all simulations into a list.\n",
    "# Each list item contains the information from README.yaml file of the given simulation.\n",
    "systems = initialize_databank()"
   ]
  },
  {
   "cell_type": "markdown",
   "id": "2563b25e",
   "metadata": {},
   "source": [
    "# Print and plot basic properties of a system selected based on ID number "
   ]
  },
  {
   "cell_type": "code",
   "execution_count": null,
   "id": "1cfdcf89-dcdc-46c9-b0e0-b0c583906c0b",
   "metadata": {
    "scrolled": true
   },
   "outputs": [],
   "source": [
    "# Define a function - simulation report generator\n",
    "def genReport(ID):\n",
    "    system = systems.loc(ID)\n",
    "\n",
    "    ## Get resolved DOI to the stored Simulation\n",
    "    url = resolve_doi_url(system['DOI'])   \n",
    "    ## Average area per lipid for the selected simulation\n",
    "    APL = CalcAreaPerMolecule(system)\n",
    "    ## Membrane thickness for the selected simulation\n",
    "    thickness = GetThickness(system)\n",
    "    ## Lipid hydration level\n",
    "    hydration = getHydrationLevel(system)\n",
    "    ## Composition\n",
    "    comp = dict()\n",
    "    for lipid in system['COMPOSITION']:\n",
    "        if lipid not in lipids_dict:\n",
    "            continue\n",
    "        comp[lipid] = '%.1f' % (calcLipidFraction(system, lipid)*100)\n",
    "    \n",
    "        try:    \n",
    "      display(Markdown(f'''\n",
    "## Report for Simulation  #{ID}  \n",
    "\n",
    "Author(s): _{system['AUTHORS_CONTACT']}_  \n",
    "'''\n",
    "  )) \n",
    "    except:\n",
    "      pass\n",
    "    display(Markdown(f'''\n",
    "## Report for Simulation  #{ID}  \n",
    "\n",
    "Author(s): _{system['AUTHORS_CONTACT']}_  \n",
    "Date: _{system['DATEOFRUNNING']}_  \n",
    "Simulation permanent link: {url}  \n",
    "\n",
    "- Composition (\\%): {':'.join(comp.keys())} ({':'.join(comp.values())})  \n",
    "- Membrane area per lipid: {APL:.1f} Å$^2$  \n",
    "- Membrane thickness: {thickness:.1f} nm  \n",
    "- Hydration level: {hydration:.1f} water/lipid  \n",
    "- Relative equilibration time for each lipid in the simulation (ns):  \n",
    "'''\n",
    "                    ))\n",
    "    ## Relative PCA equlibration time for the selected simulation\n",
    "    ShowEquilibrationTimes(system)\n",
    "        \n",
    "    ## Plot form factor and C-H bond order parameters from the simulation together with experimental data if avaible\n",
    "    display(Markdown('''\n",
    "### Graphical report   \n",
    "_Plot form factor and C-H bond order parameters from the simulation_  \n",
    "_together with corresponding experimental data (if avaible)_ \\n'''))\n",
    "    \n",
    "    for lipid in comp:\n",
    "        print(lipid)\n",
    "        plotSimulation(system, lipid)"
   ]
  },
  {
   "cell_type": "code",
   "execution_count": null,
   "id": "388dfac8-09a8-4a07-a517-816336d2d0ae",
   "metadata": {
    "scrolled": false
   },
   "outputs": [],
   "source": [
    "genReport(830)"
   ]
  },
  {
   "cell_type": "code",
   "execution_count": null,
   "id": "8a789f5c-7f35-4dd2-95db-2cb5574f3c1e",
   "metadata": {
    "scrolled": false
   },
   "outputs": [],
   "source": [
    "genReport(831)"
   ]
  },
  {
   "cell_type": "code",
   "execution_count": null,
   "id": "0349d64c",
   "metadata": {
    "scrolled": false
   },
   "outputs": [],
   "source": [
    "genReport(376)"
   ]
  },
  {
   "cell_type": "code",
   "execution_count": null,
   "id": "1f9cb058",
   "metadata": {
    "scrolled": true
   },
   "outputs": [],
   "source": []
  }
 ],
 "metadata": {
  "kernelspec": {
   "display_name": "Python 3 (ipykernel)",
   "language": "python",
   "name": "python3"
  },
  "language_info": {
   "codemirror_mode": {
    "name": "ipython",
    "version": 3
   },
   "file_extension": ".py",
   "mimetype": "text/x-python",
   "name": "python",
   "nbconvert_exporter": "python",
   "pygments_lexer": "ipython3",
   "version": "3.10.12"
  }
 },
 "nbformat": 4,
 "nbformat_minor": 5
}
